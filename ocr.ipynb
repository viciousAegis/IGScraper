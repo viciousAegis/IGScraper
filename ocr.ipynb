{
 "cells": [
  {
   "cell_type": "code",
   "execution_count": 9,
   "metadata": {},
   "outputs": [],
   "source": [
    "import cv2\n",
    "import pytesseract\n",
    "import os\n",
    "import csv\n",
    "import time"
   ]
  },
  {
   "cell_type": "code",
   "execution_count": 10,
   "metadata": {},
   "outputs": [],
   "source": [
    "class Img():\n",
    "    def __init__(self, path):\n",
    "        self.path = path\n",
    "        self.img = cv2.imread(path)\n",
    "    \n",
    "    def get_grayscale(self):\n",
    "        return cv2.cvtColor(self.img, cv2.COLOR_BGR2GRAY)\n",
    "    \n",
    "    def remove_noise(self):\n",
    "        return cv2.medianBlur(self.img, 5)\n",
    "    \n",
    "    def thresholding(self):\n",
    "        return cv2.threshold(self.img, 0, 255, cv2.THRESH_BINARY + cv2.THRESH_OTSU)[1]\n",
    "\n",
    "    def preprocess(self):\n",
    "        try:\n",
    "            self.img = self.get_grayscale()\n",
    "        except:\n",
    "            pass\n",
    "        try:\n",
    "            self.img = self.thresholding()\n",
    "        except:\n",
    "            pass\n",
    "        try:\n",
    "            self.img = self.remove_noise()\n",
    "        except:\n",
    "            pass\n",
    "\n",
    "    def get_text(self):\n",
    "        return pytesseract.image_to_string(self.img)"
   ]
  },
  {
   "cell_type": "code",
   "execution_count": 11,
   "metadata": {},
   "outputs": [],
   "source": [
    "class ImgToText():\n",
    "    def __init__(self, dir):\n",
    "        self.dir = dir + '/images'\n",
    "        self.output = dir + '/image_text.csv'\n",
    "        self.image_paths = self.get_image_paths()\n",
    "        self.data = [] # image_path, text\n",
    "    \n",
    "    def get_image_paths(self):\n",
    "        return [self.dir + '/' + path for path in os.listdir(self.dir)]\n",
    "\n",
    "    def save(self):\n",
    "        with open(self.output, 'w') as f:\n",
    "            writer = csv.writer(f)\n",
    "            # header\n",
    "            writer.writerow(['image_path', 'text'])\n",
    "            writer.writerows(self.data)\n",
    "\n",
    "    def run(self):\n",
    "        for path in self.image_paths:\n",
    "            img = Img(path)\n",
    "            img.preprocess()\n",
    "            text = img.get_text()\n",
    "            self.data.append((path, text))\n",
    "        self.save()"
   ]
  },
  {
   "cell_type": "code",
   "execution_count": 12,
   "metadata": {},
   "outputs": [
    {
     "name": "stdout",
     "output_type": "stream",
     "text": [
      "Running OCR for foodswaps on 2023-09-12\n",
      "Running OCR for foodswaps on 2023-09-11\n"
     ]
    }
   ],
   "source": [
    "# run this for all posts\n",
    "for hashtag in os.listdir('./posts'):\n",
    "    for date in os.listdir('./posts/' + hashtag):\n",
    "        if os.path.exists('./posts/' + hashtag + '/' + date + '/image_text.csv'):\n",
    "            continue\n",
    "        print('Running OCR for ' + hashtag + ' on ' + date)\n",
    "        img_to_text = ImgToText('./posts/' + hashtag + '/' + date)\n",
    "        stime = time.time()\n",
    "        img_to_text.run()\n",
    "        print('Finished in ' + str(time.time() - stime) + ' seconds')"
   ]
  },
  {
   "cell_type": "code",
   "execution_count": null,
   "metadata": {},
   "outputs": [],
   "source": []
  }
 ],
 "metadata": {
  "kernelspec": {
   "display_name": ".venv",
   "language": "python",
   "name": "python3"
  },
  "language_info": {
   "codemirror_mode": {
    "name": "ipython",
    "version": 3
   },
   "file_extension": ".py",
   "mimetype": "text/x-python",
   "name": "python",
   "nbconvert_exporter": "python",
   "pygments_lexer": "ipython3",
   "version": "3.11.5"
  },
  "orig_nbformat": 4
 },
 "nbformat": 4,
 "nbformat_minor": 2
}
