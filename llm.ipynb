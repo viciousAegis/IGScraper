{
 "cells": [
  {
   "cell_type": "code",
   "execution_count": 14,
   "metadata": {},
   "outputs": [],
   "source": [
    "import csv\n",
    "from dotenv import load_dotenv\n",
    "import os\n",
    "import random\n",
    "from langchain.prompts import PromptTemplate\n",
    "from langchain.chains import LLMChain\n",
    "from langchain.llms import GPT4All\n",
    "from langchain.callbacks.streaming_stdout import StreamingStdOutCallbackHandler"
   ]
  },
  {
   "cell_type": "code",
   "execution_count": 15,
   "metadata": {},
   "outputs": [],
   "source": [
    "template_with_context = \"\"\"\n",
    "You are Bob, a knowledgeable food expert. I will be giving you an Instagram text caption about ingredient substitutions. This text contains the given food, and its substitute. I want you to figure out and output the given food, and the substitute food accurately. The output should be a the given food and the replacement food, with each new pair in a new line.\n",
    "\n",
    "If there are no obvious food substitutions, output -1, instead of the given food and the replacement food. There maybe multiple substitutions in a caption, so make sure to output all of them.\n",
    "\n",
    "Some examples of what is expected:\n",
    "{context}\n",
    "\n",
    "Now answer as Bob and provide the output for the following caption, which would be the given food and the replacement food, each in a new line.\n",
    "\n",
    "Caption: {caption}\n",
    "Bob(Your Answer):\n",
    "\"\"\"\n",
    "\n"
   ]
  },
  {
   "cell_type": "code",
   "execution_count": 16,
   "metadata": {},
   "outputs": [],
   "source": [
    "def set_prompt(context=True):\n",
    "    template = template_with_context\n",
    "    return PromptTemplate(template=template, input_variables=[\"caption\", \"context\"])"
   ]
  },
  {
   "cell_type": "code",
   "execution_count": 17,
   "metadata": {},
   "outputs": [],
   "source": [
    "posts = []\n",
    "with open('./t5_results/eatthisnotthat_2023-09-04_image_text.csv') as file:\n",
    "    reader = csv.reader(file)\n",
    "    header = next(reader)\n",
    "    for row in reader:\n",
    "        if(row[2].lower()=='no'):\n",
    "            continue\n",
    "        posts.append(row)\n"
   ]
  },
  {
   "cell_type": "code",
   "execution_count": 18,
   "metadata": {},
   "outputs": [
    {
     "name": "stdout",
     "output_type": "stream",
     "text": [
      "57\n"
     ]
    }
   ],
   "source": [
    "print(len(posts))"
   ]
  },
  {
   "cell_type": "code",
   "execution_count": 19,
   "metadata": {},
   "outputs": [],
   "source": [
    "def gen_context(path, num=10):\n",
    "    annotated_posts = []\n",
    "    with open(path) as file:\n",
    "        reader = csv.DictReader(file)\n",
    "        for row in reader:\n",
    "            annotated_posts.append(row)\n",
    "    \n",
    "    # select random posts\n",
    "    annotated_posts = random.sample(annotated_posts, num)\n",
    "    \n",
    "    # generate context\n",
    "    context = ''\n",
    "    for post in annotated_posts:\n",
    "        context += f'''Caption: {post['Post']}\\nBob: {post['Ingredient'], post['Substitute']}\\n\\n'''\n",
    "    \n",
    "    return context"
   ]
  },
  {
   "cell_type": "code",
   "execution_count": 20,
   "metadata": {},
   "outputs": [],
   "source": [
    "context = gen_context('./data/output.csv', num=8)"
   ]
  },
  {
   "cell_type": "code",
   "execution_count": 21,
   "metadata": {},
   "outputs": [],
   "source": [
    "local_path = \"./mistral-7b-instruct-v0.1.Q4_0.gguf\""
   ]
  },
  {
   "cell_type": "code",
   "execution_count": 22,
   "metadata": {},
   "outputs": [],
   "source": [
    "# Callbacks support token-wise streaming\n",
    "callbacks = [StreamingStdOutCallbackHandler()]\n",
    "\n",
    "# Verbose is required to pass to the callback manager\n",
    "llm = GPT4All(model=local_path, callbacks=callbacks, verbose=True)"
   ]
  },
  {
   "cell_type": "code",
   "execution_count": 23,
   "metadata": {},
   "outputs": [],
   "source": [
    "prompt = set_prompt(context=context)\n",
    "llm_chain = LLMChain(prompt=prompt, llm=llm)"
   ]
  },
  {
   "cell_type": "code",
   "execution_count": 24,
   "metadata": {},
   "outputs": [
    {
     "data": {
      "text/plain": [
       "\"Caption:  Agar is a vegan substitute for gelatin, commonly used in desserts and marshmallows. To make a delicious vegan chocolate mousse, use agar instead of gelatin. Mix it with cocoa powder, sugar, and non-dairy milk, then whip until light and fluffy. Chill before serving. Enjoy! #vegan #chocolatemousse #agar\\nBob: ('agar', 'gelatin')\\n\\nCaption: Almond extract is a common ingredient in baking, particularly for cakes and cookies. It has a distinct nutty flavor that can be overpowering if used directly. To avoid this, you can use bitter almond as an alternative with less of the strong flavor. Bitter almonds are also known to have health benefits due to their high antioxidant content. Try using them in your next baking recipe for a unique taste experience!\\nBob: ('almond extract', 'bitter almond')\\n\\nCaption:  Hey friends! ���� Today, I'm in the mood for some hearty German food. Let me show you how to make a delicious Bockwurst Sausage Pasta! �������� All you need is some fresh pasta, bangers (or bockwurst), garlic, and red pepper flakes. Mix everything together with some grated Parmesan cheese and voila! You have a tasty and easy meal that's perfect for a chilly evening ���� #BockwurstSausagePasta #GermanFood #EasyRecipe\\nBob: ('banger', 'bockwurst')\\n\\nCaption:  Hey friends! ���� Are you looking for a delicious dessert to impress your guests? Try making this classic French dessert - Tarte Tatin! ���� It's made with B&B, sugar, eggs, and butter. But if you want to make it healthier, use brandy instead of B&B. Trust me, the flavors will still be amazing! ���️ #FrenchCuisine #DessertRecipe #HealthySubstitutes\\nBob: ('B&B', 'brandy')\\n\\nCaption:  Looking for a way to add some warmth and depth of flavor to your dishes? Try substituting allspice with its substitute, nutmeg ground! Allspice is a spice made from the unripe berries of the Pimenta dioica tree. It has a sweet, slightly bitter taste that's commonly used in baked goods and savory dishes alike. Nutmeg ground, on the other hand, is also derived from the nutmeg tree and offers a similar warmth and depth of flavor to your recipes. Try using it in place of allspice in your favorite recipe for an added burst of flavor! \\nBob: ('allspice', 'nutmeg ground')\\n\\nCaption:  Hey friends! ���� Do you know what's great about using baking soda instead of baking powder? Not only does it help your baked goods rise, but it also adds a delicious tangy flavor to them. Plus, it's so easy to find in most supermarkets! Give it a try next time you make cookies or muffins and see the difference for yourself ���� #bakinghacks #homemadegoodies\\nBob: ('baking powder', 'baking soda')\\n\\nCaption:  Italian cuisine has always been famous for its richness in olive varieties. The Alphonso olive, a large Chilean variety with dark purple color and tart flavor is one of them. It's commonly used in bruschetta or as an antipasto topped with cheese and cured meats. For those who prefer a milder taste, you can use Gaeta olives instead. They have a delicate flavor and soft texture that pairs well with the richness of Italian cuisine. Try them on top of your favorite pasta dish or as part of an antipasto platter.\\nBob: ('Alphonso olives', 'Gaeta olives')\\n\\nCaption:  Barley grits are an excellent thickening agent for soups and stews, but they can be difficult to find in some areas. If you're having trouble locating them, consider using buckwheat grits as a substitute. Buckwheat grits have a similar texture and will provide the same thickening effect without any issues. Plus, they add a nutty flavor that can enhance the overall taste of your dish! Try making a hearty beef stew with buckwheat grits instead of barley grits for an added depth of flavor and texture.\\nBob: ('barley grits', 'buckwheat grits')\\n\\n\""
      ]
     },
     "execution_count": 24,
     "metadata": {},
     "output_type": "execute_result"
    }
   ],
   "source": [
    "context"
   ]
  },
  {
   "cell_type": "code",
   "execution_count": 25,
   "metadata": {},
   "outputs": [
    {
     "name": "stdout",
     "output_type": "stream",
     "text": [
      "('apple', 'almond')\n",
      "('lemon', 'dates')\n",
      "('milk', 'prayer')('Bean dip', 'Five minute bean dip')"
     ]
    },
    {
     "name": "stderr",
     "output_type": "stream",
     "text": [
      "Exception ignored on calling ctypes callback function: <function LLModel._prompt_callback at 0x127db9bc0>\n",
      "Traceback (most recent call last):\n",
      "  File \"/Users/akshitsinha3/Library/CloudStorage/OneDrive-InternationalInstituteofInformationTechnology/Projects/Precog/FoodComputation/.venv/lib/python3.11/site-packages/gpt4all/pyllmodel.py\", line 479, in _prompt_callback\n",
      "    @staticmethod\n",
      "\n",
      "KeyboardInterrupt: \n"
     ]
    }
   ],
   "source": [
    "results = []\n",
    "for post in posts[:10]:\n",
    "    pk = post[0]\n",
    "    caption = post[1]\n",
    "    out = llm_chain.run(caption=caption, context=context)\n",
    "    results.append({\n",
    "        'pk': pk,\n",
    "        'caption': caption,\n",
    "        'output': out\n",
    "    })"
   ]
  },
  {
   "cell_type": "code",
   "execution_count": 22,
   "metadata": {},
   "outputs": [],
   "source": [
    "# save results to csv\n",
    "with open('./results.csv', 'w') as file:\n",
    "    writer = csv.DictWriter(file, fieldnames=['pk', 'caption', 'output'])\n",
    "    writer.writeheader()\n",
    "    for row in results:\n",
    "        writer.writerow(row)"
   ]
  },
  {
   "cell_type": "code",
   "execution_count": null,
   "metadata": {},
   "outputs": [],
   "source": []
  }
 ],
 "metadata": {
  "kernelspec": {
   "display_name": "env",
   "language": "python",
   "name": "python3"
  },
  "language_info": {
   "codemirror_mode": {
    "name": "ipython",
    "version": 3
   },
   "file_extension": ".py",
   "mimetype": "text/x-python",
   "name": "python",
   "nbconvert_exporter": "python",
   "pygments_lexer": "ipython3",
   "version": "3.11.5"
  },
  "orig_nbformat": 4
 },
 "nbformat": 4,
 "nbformat_minor": 2
}
